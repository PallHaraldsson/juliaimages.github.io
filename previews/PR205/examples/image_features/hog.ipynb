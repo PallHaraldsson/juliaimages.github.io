{
 "cells": [
  {
   "cell_type": "markdown",
   "source": [
    "In this tutorial, we will use Histogram of Oriented Gradient (HOG) feature\n",
    "descriptor based linear SVM to create a person detector. We will first create\n",
    "a person classifier and then use this classifier with a sliding window to\n",
    "identify and localize people in an image."
   ],
   "metadata": {}
  },
  {
   "cell_type": "markdown",
   "source": [
    "The key challenge in creating a classifier is that it needs to work with\n",
    "variations in illumination, pose and occlusions in the image. To achieve this,\n",
    "we will train the classifier on an intermediate representation of the image\n",
    "instead of the pixel-based representation. Our ideal representation (commonly\n",
    "called feature vector) captures information which is useful for classification\n",
    "but is invariant to small changes in illumination and occlusions. HOG descriptor\n",
    "is a gradient-based representation which is invariant to local geometric and\n",
    "photometric changes (i.e. shape and illumination changes) and so is a good\n",
    "choice for our problem. In fact HOG descriptors are widely used for object detection."
   ],
   "metadata": {}
  },
  {
   "cell_type": "markdown",
   "source": [
    "Download the script to get the training data [here](https://drive.google.com/file/d/11G_9zh9N-0veQ2EL5WDGsnxRpihsqLX5/view?usp=sharing).\n",
    "Download tutorial.zip, decompress it and run get_data.bash. (Change the\n",
    "variable `path_to_tutorial` in preprocess.jl and path to julia executable\n",
    "in get_data.bash). This script will download the required datasets. We will\n",
    "start by loading the data and computing HOG features of all the images."
   ],
   "metadata": {}
  },
  {
   "cell_type": "markdown",
   "source": [
    "```julia\n",
    "using Images, ImageFeatures"
   ],
   "metadata": {}
  },
  {
   "cell_type": "markdown",
   "source": [
    "path_to_tutorial = \"\"    # specify this path\n",
    "pos_examples = \"$path_to_tutorial/tutorial/humans/\"\n",
    "neg_examples = \"$path_to_tutorial/tutorial/not_humans/\""
   ],
   "metadata": {}
  },
  {
   "cell_type": "markdown",
   "source": [
    "n_pos = length(readdir(pos_examples))   # number of positive training examples\n",
    "n_neg = length(readdir(neg_examples))   # number of negative training examples\n",
    "n = n_pos + n_neg                       # number of training examples\n",
    "data = Array{Float64}(undef, 3780, n)   # Array to store HOG descriptor of each image. Each image in our training data has size 128x64 and so has a 3780 length\n",
    "labels = Vector{Int}(undef, n)          # Vector to store label (1=human, 0=not human) of each image."
   ],
   "metadata": {}
  },
  {
   "cell_type": "markdown",
   "source": [
    "for (i, file) in enumerate([readdir(pos_examples); readdir(neg_examples)])\n",
    "    filename = \"$(i <= n_pos ? pos_examples : neg_examples )/$file\"\n",
    "    img = load(filename)\n",
    "    data[:, i] = create_descriptor(img, HOG())\n",
    "    labels[i] = (i <= n_pos ? 1 : 0)\n",
    "end\n",
    "```"
   ],
   "metadata": {}
  },
  {
   "cell_type": "markdown",
   "source": [
    "Basically we now have an encoded version of images in our training data.\n",
    "This encoding captures useful information but discards extraneous information\n",
    "(illumination changes, pose variations etc). We will train a linear SVM on this data."
   ],
   "metadata": {}
  },
  {
   "cell_type": "markdown",
   "source": [
    "```julia\n",
    "using LIBSVM"
   ],
   "metadata": {}
  },
  {
   "cell_type": "markdown",
   "source": [
    "#Split the dataset into train and test set. Train set = 2500 images, Test set = 294 images.\n",
    "random_perm = randperm(n)\n",
    "train_ind = random_perm[1:2500]\n",
    "test_ind = random_perm[2501:end]"
   ],
   "metadata": {}
  },
  {
   "cell_type": "markdown",
   "source": [
    "model = svmtrain(data[:, train_ind], labels[train_ind]);\n",
    "```"
   ],
   "metadata": {}
  },
  {
   "cell_type": "markdown",
   "source": [
    "Now let's test this classifier on some images."
   ],
   "metadata": {}
  },
  {
   "cell_type": "markdown",
   "source": [
    "```julia\n",
    "img = load(\"$pos_examples/per00003.ppm\")\n",
    "descriptor = Array{Float64}(3780, 1)\n",
    "descriptor[:, 1] = create_descriptor(img, HOG())"
   ],
   "metadata": {}
  },
  {
   "cell_type": "markdown",
   "source": [
    "predicted_label, _ = svmpredict(model, descriptor);\n",
    "print(predicted_label)                          # 1=human, 0=not human"
   ],
   "metadata": {}
  },
  {
   "cell_type": "markdown",
   "source": [
    "# Get test accuracy of our model\n",
    "predicted_labels, decision_values = svmpredict(model, data[:, test_ind]);\n",
    "@printf \"Accuracy: %.2f%%\\n\" mean((predicted_labels .== labels[test_ind])) * 100 # test accuracy should be > 98%\n",
    "```"
   ],
   "metadata": {}
  },
  {
   "cell_type": "markdown",
   "source": [
    "Try testing our trained model on more images. You can see that it performs quite well.\n",
    "Image"
   ],
   "metadata": {}
  },
  {
   "cell_type": "markdown",
   "source": [
    "| ![Original](assets/human1.png) | ![Original](assets/human2.png) |\n",
    "|:------:|:---:|\n",
    "| predicted_label = 1 | predicted_label = 1 |"
   ],
   "metadata": {}
  },
  {
   "cell_type": "markdown",
   "source": [
    "| ![Original](assets/human3.png) | ![Original](assets/not-human1.jpg) |\n",
    "|:------:|:---:|\n",
    "| predicted_label = 1 | predicted_label = 0 |"
   ],
   "metadata": {}
  },
  {
   "cell_type": "markdown",
   "source": [
    "Next we will use our trained classifier with a sliding window to localize persons in an image."
   ],
   "metadata": {}
  },
  {
   "cell_type": "markdown",
   "source": [
    "![Original](assets/humans.jpg)"
   ],
   "metadata": {}
  },
  {
   "cell_type": "markdown",
   "source": [
    "```julia\n",
    "img = load(\"path_to_tutorial/tutorial/humans.jpg\")\n",
    "rows, cols = size(img)"
   ],
   "metadata": {}
  },
  {
   "cell_type": "markdown",
   "source": [
    "scores = Array{Float64}(22, 45)\n",
    "descriptor = Array{Float64}(3780, 1)"
   ],
   "metadata": {}
  },
  {
   "cell_type": "markdown",
   "source": [
    "#Apply classifier using a sliding window approach and store classification score for not-human at every location in score array\n",
    "for j = 32:10:cols-32\n",
    "    for i = 64:10:rows-64\n",
    "        box = img[i-63:i+64, j-31:j+32]\n",
    "        descriptor[:, 1] = create_descriptor(box, HOG())\n",
    "        predicted_label, s = svmpredict(model, descriptor)\n",
    "        scores[Int((i - 64) / 10)+1, Int((j - 32) / 10)+1] = s[1]\n",
    "    end\n",
    "end\n",
    "```"
   ],
   "metadata": {}
  },
  {
   "cell_type": "markdown",
   "source": [
    "![](assets/scores.png)"
   ],
   "metadata": {}
  },
  {
   "cell_type": "markdown",
   "source": [
    "You can see that classifier gave low score to not-human class (i.e.\n",
    "high score to human class) at positions corresponding to humans in\n",
    "the original image.\n",
    "Below we threshold the image and supress non-minimal values to get\n",
    "the human locations. We then plot the bounding boxes using `ImageDraw`."
   ],
   "metadata": {}
  },
  {
   "cell_type": "markdown",
   "source": [
    "```julia\n",
    "using ImageDraw, ImageView"
   ],
   "metadata": {}
  },
  {
   "cell_type": "markdown",
   "source": [
    "scores[scores.>0] = 0\n",
    "object_locations = findlocalminima(scores)"
   ],
   "metadata": {}
  },
  {
   "cell_type": "markdown",
   "source": [
    "rectangles = [\n",
    "    [\n",
    "        ((i[2] - 1) * 10 + 1, (i[1] - 1) * 10 + 1),\n",
    "        ((i[2] - 1) * 10 + 64, (i[1] - 1) * 10 + 1),\n",
    "        ((i[2] - 1) * 10 + 64, (i[1] - 1) * 10 + 128),\n",
    "        ((i[2] - 1) * 10 + 1, (i[1] - 1) * 10 + 128),\n",
    "    ] for i in object_locations\n",
    "];"
   ],
   "metadata": {}
  },
  {
   "cell_type": "markdown",
   "source": [
    "for rec in rectangles\n",
    "    draw!(img, Polygon(rec), RGB{N0f8}(0, 0, 1.0))\n",
    "end\n",
    "imshow(img)\n",
    "```"
   ],
   "metadata": {}
  },
  {
   "cell_type": "markdown",
   "source": [
    "![](assets/boxes.jpg)"
   ],
   "metadata": {}
  },
  {
   "cell_type": "markdown",
   "source": [
    "In our example we were lucky that the persons in our image had roughly\n",
    "the same size (128x64) as examples in our train set. We will generally\n",
    "need to take bounding boxes across multiple scales (and multiple\n",
    "aspect ratios for some object classes)."
   ],
   "metadata": {}
  },
  {
   "cell_type": "markdown",
   "source": [
    "---\n",
    "\n",
    "*This notebook was generated using [Literate.jl](https://github.com/fredrikekre/Literate.jl).*"
   ],
   "metadata": {}
  }
 ],
 "nbformat_minor": 3,
 "metadata": {
  "language_info": {
   "file_extension": ".jl",
   "mimetype": "application/julia",
   "name": "julia",
   "version": "1.6.2"
  },
  "kernelspec": {
   "name": "julia-1.6",
   "display_name": "Julia 1.6.2",
   "language": "julia"
  }
 },
 "nbformat": 4
}
